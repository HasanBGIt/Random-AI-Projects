{
  "metadata": {
    "kernelspec": {
      "name": "python3",
      "display_name": "Python 3",
      "language": "python"
    },
    "language_info": {
      "name": "python",
      "version": "3.11.13",
      "mimetype": "text/x-python",
      "codemirror_mode": {
        "name": "ipython",
        "version": 3
      },
      "pygments_lexer": "ipython3",
      "nbconvert_exporter": "python",
      "file_extension": ".py"
    },
    "colab": {
      "private_outputs": true,
      "provenance": [],
      "gpuType": "T4"
    },
    "accelerator": "GPU",
    "kaggle": {
      "accelerator": "gpu",
      "dataSources": [
        {
          "sourceId": 9801,
          "sourceType": "datasetVersion",
          "datasetId": 6763
        }
      ],
      "dockerImageVersionId": 31090,
      "isInternetEnabled": true,
      "language": "python",
      "sourceType": "notebook",
      "isGpuEnabled": true
    }
  },
  "nbformat_minor": 0,
  "nbformat": 4,
  "cells": [
    {
      "cell_type": "code",
      "source": [
        "import collections\n",
        "import matplotlib.pyplot as plt\n",
        "import numpy as np\n",
        "import pandas as pd\n",
        "import spacy\n",
        "import tensorflow as tf\n",
        "\n",
        "from gensim.models.keyedvectors import KeyedVectors\n",
        "from sklearn.decomposition import PCA\n",
        "from sklearn.model_selection import train_test_split\n",
        "from tensorflow import keras\n",
        "from tensorflow.keras import layers\n",
        "from tensorflow.keras.preprocessing.text import Tokenizer\n",
        "import kagglehub"
      ],
      "metadata": {
        "id": "kIMAMpBaoqkP",
        "trusted": true,
        "execution": {
          "iopub.status.busy": "2025-07-22T17:52:17.104582Z",
          "iopub.execute_input": "2025-07-22T17:52:17.105202Z",
          "iopub.status.idle": "2025-07-22T17:52:17.109297Z",
          "shell.execute_reply.started": "2025-07-22T17:52:17.105177Z",
          "shell.execute_reply": "2025-07-22T17:52:17.108466Z"
        }
      },
      "outputs": [],
      "execution_count": null
    },
    {
      "cell_type": "code",
      "source": [
        "path = kagglehub.dataset_download(\"leadbest/googlenewsvectorsnegative300\")\n",
        "\n",
        "print(\"Path to dataset files:\", path)\n",
        "\n",
        "embedding_file = '/root/.cache/kagglehub/datasets/leadbest/googlenewsvectorsnegative300/versions/2/GoogleNews-vectors-negative300.bin.gz'"
      ],
      "metadata": {
        "id": "6FtVSlPQbj4F",
        "trusted": true,
        "execution": {
          "iopub.status.busy": "2025-07-22T17:52:17.118121Z",
          "iopub.execute_input": "2025-07-22T17:52:17.118354Z",
          "iopub.status.idle": "2025-07-22T17:52:17.30267Z",
          "shell.execute_reply.started": "2025-07-22T17:52:17.118337Z",
          "shell.execute_reply": "2025-07-22T17:52:17.30206Z"
        }
      },
      "outputs": [],
      "execution_count": null
    },
    {
      "cell_type": "code",
      "source": [
        "word_vectors = KeyedVectors.load_word2vec_format(embedding_file, binary=True, limit=200000)\n",
        "\n",
        "vector = word_vectors['apple']\n",
        "print(vector)\n",
        "similar = word_vectors.most_similar('apple')\n",
        "print(similar)\n"
      ],
      "metadata": {
        "id": "dmRUiKPObjqM",
        "trusted": true,
        "execution": {
          "iopub.status.busy": "2025-07-22T17:52:17.303871Z",
          "iopub.execute_input": "2025-07-22T17:52:17.304473Z",
          "iopub.status.idle": "2025-07-22T17:52:20.312262Z",
          "shell.execute_reply.started": "2025-07-22T17:52:17.304455Z",
          "shell.execute_reply": "2025-07-22T17:52:20.311512Z"
        }
      },
      "outputs": [],
      "execution_count": null
    },
    {
      "cell_type": "code",
      "source": [
        "pizza = word_vectors['pizza']\n",
        "print(f'Vector dimension: {pizza.shape}')\n",
        "print(pizza)"
      ],
      "metadata": {
        "id": "wm9lDs3Vfv12",
        "trusted": true,
        "execution": {
          "iopub.status.busy": "2025-07-22T17:52:20.313079Z",
          "iopub.execute_input": "2025-07-22T17:52:20.313831Z",
          "iopub.status.idle": "2025-07-22T17:52:20.348187Z",
          "shell.execute_reply.started": "2025-07-22T17:52:20.313809Z",
          "shell.execute_reply": "2025-07-22T17:52:20.347482Z"
        }
      },
      "outputs": [],
      "execution_count": null
    },
    {
      "cell_type": "code",
      "source": [
        "print(word_vectors.similarity('pizza', 'tomato'))\n",
        "print(word_vectors.similarity('pizza', 'sauce'))\n",
        "print(word_vectors.similarity('pizza', 'cheese'))\n",
        "print(word_vectors.similarity('pizza', 'burger'))\n",
        "print(word_vectors.similarity('pizza', 'car'))\n",
        "print(word_vectors.similarity('pizza', 'restaurant'))\n",
        "print(word_vectors.similarity('pizza', 'Italy'))\n",
        "print(word_vectors.similarity('pizza', 'computer'))"
      ],
      "metadata": {
        "id": "r1i6H88Cfp1P",
        "trusted": true,
        "execution": {
          "iopub.status.busy": "2025-07-22T17:52:20.349698Z",
          "iopub.execute_input": "2025-07-22T17:52:20.349886Z",
          "iopub.status.idle": "2025-07-22T17:52:20.36676Z",
          "shell.execute_reply.started": "2025-07-22T17:52:20.349871Z",
          "shell.execute_reply": "2025-07-22T17:52:20.366167Z"
        }
      },
      "outputs": [],
      "execution_count": null
    },
    {
      "cell_type": "code",
      "source": [
        "word_vectors.n_similarity(\"king rules kingdom\".split(), \"monarch governs empire\".split())\n",
        "word_vectors.n_similarity(\"dog bites man\".split(), \"man bites dog\".split())"
      ],
      "metadata": {
        "id": "nwvDT25miXk0",
        "trusted": true,
        "execution": {
          "iopub.status.busy": "2025-07-22T17:52:20.367394Z",
          "iopub.execute_input": "2025-07-22T17:52:20.367624Z",
          "iopub.status.idle": "2025-07-22T17:52:20.384035Z",
          "shell.execute_reply.started": "2025-07-22T17:52:20.367588Z",
          "shell.execute_reply": "2025-07-22T17:52:20.383349Z"
        }
      },
      "outputs": [],
      "execution_count": null
    },
    {
      "cell_type": "code",
      "source": [
        "s1 = \"Apple plans to increase iPhone production in India\".lower().split()\n",
        "print(s1)\n",
        "s2 = \"Samsung to launch new Galaxy phones with foldable screens\".lower().split()\n",
        "print(s2)\n",
        "word_vectors.n_similarity(s1, s2)"
      ],
      "metadata": {
        "id": "EejHDg24iyum",
        "trusted": true,
        "execution": {
          "iopub.status.busy": "2025-07-22T17:52:20.384897Z",
          "iopub.execute_input": "2025-07-22T17:52:20.38514Z",
          "iopub.status.idle": "2025-07-22T17:52:20.403152Z",
          "shell.execute_reply.started": "2025-07-22T17:52:20.385117Z",
          "shell.execute_reply": "2025-07-22T17:52:20.402433Z"
        }
      },
      "outputs": [],
      "execution_count": null
    },
    {
      "cell_type": "code",
      "source": [
        "word_vectors.most_similar(positive=['king'], topn=10)"
      ],
      "metadata": {
        "id": "2f2CXSQNxZgf",
        "trusted": true,
        "execution": {
          "iopub.status.busy": "2025-07-22T17:52:20.403808Z",
          "iopub.execute_input": "2025-07-22T17:52:20.404007Z",
          "iopub.status.idle": "2025-07-22T17:52:20.447489Z",
          "shell.execute_reply.started": "2025-07-22T17:52:20.403989Z",
          "shell.execute_reply": "2025-07-22T17:52:20.446791Z"
        }
      },
      "outputs": [],
      "execution_count": null
    },
    {
      "cell_type": "code",
      "source": [
        "word_vectors.most_similar(positive=['king', 'woman'], negative=['man'], topn=10)"
      ],
      "metadata": {
        "trusted": true,
        "execution": {
          "iopub.status.busy": "2025-07-22T17:52:20.448275Z",
          "iopub.execute_input": "2025-07-22T17:52:20.448741Z",
          "iopub.status.idle": "2025-07-22T17:52:20.469565Z",
          "shell.execute_reply.started": "2025-07-22T17:52:20.448722Z",
          "shell.execute_reply": "2025-07-22T17:52:20.468988Z"
        },
        "id": "6gS_-2obZV5A"
      },
      "outputs": [],
      "execution_count": null
    },
    {
      "cell_type": "code",
      "source": [
        "word_vectors.doesnt_match([\"cat\", \"dog\", \"hamster\", \"car\", \"rabbit\"])\n"
      ],
      "metadata": {
        "id": "oA2NVKHPzExZ",
        "trusted": true,
        "execution": {
          "iopub.status.busy": "2025-07-22T17:52:20.470204Z",
          "iopub.execute_input": "2025-07-22T17:52:20.470471Z",
          "iopub.status.idle": "2025-07-22T17:52:20.475659Z",
          "shell.execute_reply.started": "2025-07-22T17:52:20.47045Z",
          "shell.execute_reply": "2025-07-22T17:52:20.475041Z"
        }
      },
      "outputs": [],
      "execution_count": null
    },
    {
      "cell_type": "code",
      "source": [
        "def display_pca_scatterplot(model, word_list):\n",
        "    # Extract word vectors from the model\n",
        "    vectors = np.array([model[word] for word in word_list])\n",
        "\n",
        "    # Reduce dimensions from high-dimensional space (300) to 2D\n",
        "    reduced_vectors = PCA(n_components=2).fit_transform(vectors)\n",
        "\n",
        "    # Plot the 2D vectors\n",
        "    plt.figure(figsize=(10, 10))\n",
        "    plt.scatter(reduced_vectors[:, 0], reduced_vectors[:, 1], c='r', edgecolors='k', s=128)\n",
        "\n",
        "    # Label each point with the corresponding word\n",
        "    for word, (x, y) in zip(word_list, reduced_vectors):\n",
        "        plt.text(x + 0.05, y + 0.05, word)\n",
        "\n",
        "    plt.title(\"2D PCA of Word Embeddings\")\n",
        "    plt.grid(True)\n",
        "    plt.show()\n",
        "\n",
        "words = ['apple', 'banana', 'orange', 'grape', 'dog', 'cat', 'lion', 'tiger']\n",
        "display_pca_scatterplot(word_vectors, words)\n"
      ],
      "metadata": {
        "id": "wC1e7EF0-b-s",
        "trusted": true,
        "execution": {
          "iopub.status.busy": "2025-07-22T17:52:20.478039Z",
          "iopub.execute_input": "2025-07-22T17:52:20.47823Z",
          "iopub.status.idle": "2025-07-22T17:52:20.691182Z",
          "shell.execute_reply.started": "2025-07-22T17:52:20.478217Z",
          "shell.execute_reply": "2025-07-22T17:52:20.690455Z"
        }
      },
      "outputs": [],
      "execution_count": null
    },
    {
      "cell_type": "code",
      "source": [
        "word_vectors = KeyedVectors.load_word2vec_format(embedding_file, binary=True, limit=1000000)"
      ],
      "metadata": {
        "id": "VVLj4fSMzvHJ",
        "trusted": true,
        "execution": {
          "iopub.status.busy": "2025-07-22T17:52:20.692002Z",
          "iopub.execute_input": "2025-07-22T17:52:20.692682Z",
          "iopub.status.idle": "2025-07-22T17:52:34.773308Z",
          "shell.execute_reply.started": "2025-07-22T17:52:20.692661Z",
          "shell.execute_reply": "2025-07-22T17:52:34.772722Z"
        }
      },
      "outputs": [],
      "execution_count": null
    },
    {
      "cell_type": "code",
      "source": [
        "word_vectors['king']\n",
        "word_vectors.similarity('car', 'bus')\n",
        "word_vectors.most_similar('apple')"
      ],
      "metadata": {
        "trusted": true,
        "execution": {
          "iopub.status.busy": "2025-07-22T17:52:34.774041Z",
          "iopub.execute_input": "2025-07-22T17:52:34.774256Z",
          "iopub.status.idle": "2025-07-22T17:52:35.204941Z",
          "shell.execute_reply.started": "2025-07-22T17:52:34.77424Z",
          "shell.execute_reply": "2025-07-22T17:52:35.204341Z"
        },
        "id": "KGC1t18mZV5D"
      },
      "outputs": [],
      "execution_count": null
    },
    {
      "cell_type": "code",
      "source": [
        "!wget -P /root/input/ -c \"https://s3.amazonaws.com/fast-ai-nlp/yelp_review_polarity_csv.tgz\""
      ],
      "metadata": {
        "id": "RcMEE11bzz_j",
        "trusted": true,
        "execution": {
          "iopub.status.busy": "2025-07-22T17:52:35.20562Z",
          "iopub.execute_input": "2025-07-22T17:52:35.205818Z",
          "iopub.status.idle": "2025-07-22T17:52:35.825406Z",
          "shell.execute_reply.started": "2025-07-22T17:52:35.205803Z",
          "shell.execute_reply": "2025-07-22T17:52:35.82468Z"
        }
      },
      "outputs": [],
      "execution_count": null
    },
    {
      "cell_type": "code",
      "source": [
        "!tar xvzf /root/input/yelp_review_polarity_csv.tgz\n",
        "!pwd"
      ],
      "metadata": {
        "id": "-UK1y9kjzz7y",
        "trusted": true,
        "execution": {
          "iopub.status.busy": "2025-07-22T17:52:35.826495Z",
          "iopub.execute_input": "2025-07-22T17:52:35.826758Z",
          "iopub.status.idle": "2025-07-22T17:52:39.662482Z",
          "shell.execute_reply.started": "2025-07-22T17:52:35.826723Z",
          "shell.execute_reply": "2025-07-22T17:52:39.661708Z"
        }
      },
      "outputs": [],
      "execution_count": null
    },
    {
      "cell_type": "code",
      "source": [
        "yelp_train = pd.read_csv('yelp_review_polarity_csv/train.csv', names=['sentiment', 'review'])\n",
        "print(yelp_train.shape)\n",
        "yelp_train.head()"
      ],
      "metadata": {
        "id": "tdLoK1Jozz0Z",
        "trusted": true,
        "execution": {
          "iopub.status.busy": "2025-07-22T17:52:39.663502Z",
          "iopub.execute_input": "2025-07-22T17:52:39.663764Z",
          "iopub.status.idle": "2025-07-22T17:52:43.326684Z",
          "shell.execute_reply.started": "2025-07-22T17:52:39.663733Z",
          "shell.execute_reply": "2025-07-22T17:52:43.3258Z"
        }
      },
      "outputs": [],
      "execution_count": null
    },
    {
      "cell_type": "code",
      "source": [
        "yelp_train = yelp_train.sample(frac=1, random_state=1)[:100000].copy()\n",
        "print(yelp_train.shape)\n",
        "yelp_train.head()"
      ],
      "metadata": {
        "id": "YacSH4F0c5aU",
        "trusted": true,
        "execution": {
          "iopub.status.busy": "2025-07-22T17:52:43.327385Z",
          "iopub.execute_input": "2025-07-22T17:52:43.327618Z",
          "iopub.status.idle": "2025-07-22T17:52:43.465798Z",
          "shell.execute_reply.started": "2025-07-22T17:52:43.327601Z",
          "shell.execute_reply": "2025-07-22T17:52:43.465208Z"
        }
      },
      "outputs": [],
      "execution_count": null
    },
    {
      "cell_type": "code",
      "source": [
        "yelp_train['sentiment'].replace(to_replace=1, value=0, inplace=True)\n",
        "yelp_train['sentiment'].replace(to_replace=2, value=1, inplace=True)\n",
        "yelp_train.head()"
      ],
      "metadata": {
        "id": "kbmYKm-SjGnm",
        "trusted": true,
        "execution": {
          "iopub.status.busy": "2025-07-22T17:52:43.466504Z",
          "iopub.execute_input": "2025-07-22T17:52:43.466861Z",
          "iopub.status.idle": "2025-07-22T17:52:43.47601Z",
          "shell.execute_reply.started": "2025-07-22T17:52:43.466833Z",
          "shell.execute_reply": "2025-07-22T17:52:43.475428Z"
        }
      },
      "outputs": [],
      "execution_count": null
    },
    {
      "cell_type": "code",
      "source": [
        "yelp_train_split, yelp_val_split = train_test_split(yelp_train, train_size=0.85, random_state=1)\n",
        "\n",
        "# Training\n",
        "X_train = yelp_train_split['review']\n",
        "y_train = yelp_train_split['sentiment']\n",
        "\n",
        "# Validation\n",
        "X_val = yelp_val_split['review']\n",
        "y_val = yelp_val_split['sentiment']\n",
        "\n",
        "collections.Counter(y_train)"
      ],
      "metadata": {
        "id": "CC-VSNcn7Cpq",
        "trusted": true,
        "execution": {
          "iopub.status.busy": "2025-07-22T17:52:43.476798Z",
          "iopub.execute_input": "2025-07-22T17:52:43.477077Z",
          "iopub.status.idle": "2025-07-22T17:52:43.540573Z",
          "shell.execute_reply.started": "2025-07-22T17:52:43.477041Z",
          "shell.execute_reply": "2025-07-22T17:52:43.539968Z"
        }
      },
      "outputs": [],
      "execution_count": null
    },
    {
      "cell_type": "code",
      "source": [
        "tokenizer = Tokenizer(num_words=20000,  # or adjust based on your vocab size\n",
        "                      filters='!\"#$%&()*+,-./:;<=>?@[\\\\]^_`{|}~\\t\\n',\n",
        "                      lower=True)\n",
        "\n",
        "tokenizer.fit_on_texts(yelp_train_split['review'])\n",
        "train_sequences = tokenizer.texts_to_sequences(yelp_train_split['review'])\n",
        "\n",
        "X_train = keras.preprocessing.sequence.pad_sequences(train_sequences, maxlen=200)\n",
        "y_train = yelp_train_split['sentiment'].astype('float32')  # ensure correct type\n",
        "\n",
        "print(train_sequences[0])\n",
        "tokenizer.word_index"
      ],
      "metadata": {
        "id": "UI4FgHPa4p2T",
        "trusted": true,
        "execution": {
          "iopub.status.busy": "2025-07-22T17:53:00.509527Z",
          "iopub.execute_input": "2025-07-22T17:53:00.509891Z",
          "iopub.status.idle": "2025-07-22T17:53:10.3278Z",
          "shell.execute_reply.started": "2025-07-22T17:53:00.509859Z",
          "shell.execute_reply": "2025-07-22T17:53:10.327021Z"
        }
      },
      "outputs": [],
      "execution_count": null
    },
    {
      "cell_type": "code",
      "source": [
        "print([tokenizer.index_word[x] for x in train_sequences[1][:2]])\n",
        "print(train_sequences[1][:2])\n",
        "print(tokenizer.index_word[14])\n",
        "print(tokenizer.index_word[382])\n",
        "print(tokenizer.sequences_to_texts([[14]]))\n",
        "print(tokenizer.sequences_to_texts([[382]]))\n",
        "print(tokenizer.sequences_to_texts([train_sequences[0]])[0][:300])\n",
        "print(X_train[0][:300])"
      ],
      "metadata": {
        "id": "jkOI7jYFqb44",
        "trusted": true,
        "execution": {
          "iopub.status.busy": "2025-07-22T17:54:22.593085Z",
          "iopub.execute_input": "2025-07-22T17:54:22.593846Z",
          "iopub.status.idle": "2025-07-22T17:54:22.599985Z",
          "shell.execute_reply.started": "2025-07-22T17:54:22.593823Z",
          "shell.execute_reply": "2025-07-22T17:54:22.59907Z"
        }
      },
      "outputs": [],
      "execution_count": null
    },
    {
      "cell_type": "code",
      "source": [
        "# Tokenize and pad training reviews\n",
        "train_sequences = tokenizer.texts_to_sequences(yelp_train_split['review'])\n",
        "X_train = keras.preprocessing.sequence.pad_sequences(train_sequences, maxlen=200)\n",
        "\n",
        "# Tokenize and pad validation reviews\n",
        "val_sequences = tokenizer.texts_to_sequences(yelp_val_split['review'])\n",
        "X_val = keras.preprocessing.sequence.pad_sequences(val_sequences, maxlen=200)\n",
        "\n",
        "print(X_train.shape)\n",
        "print(X_val.shape)"
      ],
      "metadata": {
        "id": "2lTEjMgDqIPp",
        "trusted": true,
        "execution": {
          "iopub.status.busy": "2025-07-22T17:55:25.737345Z",
          "iopub.execute_input": "2025-07-22T17:55:25.737605Z",
          "iopub.status.idle": "2025-07-22T17:55:30.501576Z",
          "shell.execute_reply.started": "2025-07-22T17:55:25.737589Z",
          "shell.execute_reply": "2025-07-22T17:55:30.50082Z"
        }
      },
      "outputs": [],
      "execution_count": null
    },
    {
      "cell_type": "code",
      "source": [
        "vocab_size = len(tokenizer.word_index) + 1\n",
        "\n",
        "embedding_size = 300\n",
        "pretrained_embeddings = np.zeros((vocab_size, embedding_size))\n",
        "\n",
        "for term, index in tokenizer.word_index.items():\n",
        "    if word_vectors.has_index_for(term):\n",
        "        pretrained_embeddings[index] = word_vectors[term].copy()\n",
        "\n",
        "print(pretrained_embeddings[tokenizer.word_index['good']][:50])"
      ],
      "metadata": {
        "id": "Iw25Irs4J-JG",
        "trusted": true,
        "execution": {
          "iopub.status.busy": "2025-07-22T17:56:08.162721Z",
          "iopub.execute_input": "2025-07-22T17:56:08.163303Z",
          "iopub.status.idle": "2025-07-22T17:56:08.494501Z",
          "shell.execute_reply.started": "2025-07-22T17:56:08.163268Z",
          "shell.execute_reply": "2025-07-22T17:56:08.493722Z"
        }
      },
      "outputs": [],
      "execution_count": null
    },
    {
      "cell_type": "code",
      "source": [
        "embedding_layer = keras.layers.Embedding(\n",
        "    input_dim=vocab_size,\n",
        "    output_dim=embedding_size,\n",
        "    embeddings_initializer=keras.initializers.Constant(pretrained_embeddings),\n",
        "    input_length=200,\n",
        "    trainable=True  #\n",
        ")\n"
      ],
      "metadata": {
        "id": "ALs6rkTnJ-aj",
        "trusted": true,
        "execution": {
          "iopub.status.busy": "2025-07-22T17:56:25.164009Z",
          "iopub.execute_input": "2025-07-22T17:56:25.164275Z",
          "iopub.status.idle": "2025-07-22T17:56:25.169518Z",
          "shell.execute_reply.started": "2025-07-22T17:56:25.164255Z",
          "shell.execute_reply": "2025-07-22T17:56:25.168685Z"
        }
      },
      "outputs": [],
      "execution_count": null
    },
    {
      "cell_type": "code",
      "source": [
        "tf.random.set_seed(0)\n",
        "\n",
        "text_classifier = keras.Sequential()\n",
        "\n",
        "# This layer will output a sequence of 300-dimensional vectors (one per word).\n",
        "text_classifier.add(embedding_layer)\n",
        "\n",
        "# This layer averages the word vectors into a single vector per review\n",
        "text_classifier.add(layers.GlobalAveragePooling1D())\n",
        "\n",
        "text_classifier.add(layers.Dense(128, activation='relu',\n",
        "                                 kernel_initializer=tf.keras.initializers.RandomNormal(seed=1)))\n",
        "text_classifier.add(layers.Dense(64, activation='relu',\n",
        "                                 kernel_initializer=tf.keras.initializers.RandomNormal(seed=1)))\n",
        "text_classifier.add(layers.Dense(1, activation='sigmoid',\n",
        "                                 kernel_initializer=tf.keras.initializers.RandomNormal(seed=1)))\n",
        "\n",
        "text_classifier.compile(\n",
        "    optimizer='adam',\n",
        "    loss='binary_crossentropy',\n",
        "    metrics=['accuracy']\n",
        ")\n"
      ],
      "metadata": {
        "id": "1RrLd4gzbhVS",
        "trusted": true,
        "execution": {
          "iopub.status.busy": "2025-07-22T17:56:33.319568Z",
          "iopub.execute_input": "2025-07-22T17:56:33.320061Z",
          "iopub.status.idle": "2025-07-22T17:56:33.345118Z",
          "shell.execute_reply.started": "2025-07-22T17:56:33.32004Z",
          "shell.execute_reply": "2025-07-22T17:56:33.344489Z"
        }
      },
      "outputs": [],
      "execution_count": null
    },
    {
      "cell_type": "code",
      "source": [
        "# Sample input review\n",
        "sample_review = \"football is good game\"\n",
        "print(f\"Review: {sample_review}\")\n",
        "\n",
        "# Convert the review into a sequence of token IDs\n",
        "sample_sequence = tokenizer.texts_to_sequences([sample_review])\n",
        "print(f\"Tokenized sequence: {sample_sequence}\")\n",
        "\n",
        "# Pass the sequence through the embedding layer\n",
        "sample_input_array = np.array(sample_sequence)\n",
        "embedded_output = embedding_layer(sample_input_array)\n",
        "\n",
        "# Print the shape of the embedding output\n",
        "batch_size, seq_len, embed_dim = embedded_output.shape\n",
        "print(f\"Embedding shape → (Batch size: {batch_size}, Sequence length: {seq_len}, Embedding size: {embed_dim})\")\n",
        "\n",
        "# Compute the average embedding (pooled representation)\n",
        "avg_embedding = np.mean(embedded_output, axis=1)\n",
        "print(f\"Averaged embedding shape: {avg_embedding.shape}\")\n"
      ],
      "metadata": {
        "id": "1r5K-Qqb1d-H",
        "trusted": true,
        "execution": {
          "iopub.status.busy": "2025-07-22T17:56:37.553149Z",
          "iopub.execute_input": "2025-07-22T17:56:37.553754Z",
          "iopub.status.idle": "2025-07-22T17:56:37.974982Z",
          "shell.execute_reply.started": "2025-07-22T17:56:37.553732Z",
          "shell.execute_reply": "2025-07-22T17:56:37.974229Z"
        }
      },
      "outputs": [],
      "execution_count": null
    },
    {
      "cell_type": "code",
      "source": [
        "text_classifier.summary()"
      ],
      "metadata": {
        "id": "Pz31QQcb5nq5",
        "trusted": true,
        "execution": {
          "iopub.status.busy": "2025-07-22T17:56:40.14284Z",
          "iopub.execute_input": "2025-07-22T17:56:40.143588Z",
          "iopub.status.idle": "2025-07-22T17:56:40.157187Z",
          "shell.execute_reply.started": "2025-07-22T17:56:40.14356Z",
          "shell.execute_reply": "2025-07-22T17:56:40.156559Z"
        }
      },
      "outputs": [],
      "execution_count": null
    },
    {
      "cell_type": "code",
      "source": [
        "training_history = text_classifier.fit(\n",
        "    X_train,\n",
        "    y_train,\n",
        "    epochs=20,\n",
        "    batch_size=512,\n",
        "    validation_data=(X_val, y_val)\n",
        ")\n"
      ],
      "metadata": {
        "id": "oU6QBey79cis",
        "trusted": true,
        "execution": {
          "iopub.status.busy": "2025-07-22T17:56:45.147902Z",
          "iopub.execute_input": "2025-07-22T17:56:45.148165Z",
          "iopub.status.idle": "2025-07-22T17:57:43.856866Z",
          "shell.execute_reply.started": "2025-07-22T17:56:45.148144Z",
          "shell.execute_reply": "2025-07-22T17:57:43.856316Z"
        }
      },
      "outputs": [],
      "execution_count": null
    },
    {
      "cell_type": "code",
      "source": [
        "def plot_model_performance(training_history):\n",
        "    train_loss = training_history.history['loss']\n",
        "    val_loss = training_history.history['val_loss']\n",
        "\n",
        "    train_acc = training_history.history['accuracy']\n",
        "    val_acc = training_history.history['val_accuracy']\n",
        "\n",
        "    num_epochs = range(1, len(train_loss) + 1)\n",
        "\n",
        "    import matplotlib.pyplot as plt\n",
        "    fig, (loss_ax, acc_ax) = plt.subplots(2)\n",
        "    fig.set_figheight(15)\n",
        "    fig.set_figwidth(15)\n",
        "    fig.tight_layout(pad=5.0)\n",
        "\n",
        "    # Plot training vs. validation loss\n",
        "    loss_ax.plot(num_epochs, train_loss, 'bo', label='Training Loss')\n",
        "    loss_ax.plot(num_epochs, val_loss, 'b', label='Validation Loss')\n",
        "    loss_ax.set_title('Training vs. Validation Loss')\n",
        "    loss_ax.set_xlabel('Epoch')\n",
        "    loss_ax.set_ylabel('Loss')\n",
        "    loss_ax.legend()\n",
        "\n",
        "    # Plot training vs. validation accuracy\n",
        "    acc_ax.plot(num_epochs, train_acc, 'bo', label='Training Accuracy')\n",
        "    acc_ax.plot(num_epochs, val_acc, 'b', label='Validation Accuracy')\n",
        "    acc_ax.set_title('Training vs. Validation Accuracy')\n",
        "    acc_ax.set_xlabel('Epoch')\n",
        "    acc_ax.set_ylabel('Accuracy')\n",
        "    acc_ax.legend()\n",
        "\n",
        "    plt.show()\n",
        "plot_model_performance(training_history)"
      ],
      "metadata": {
        "id": "Neard5tEGwnG",
        "trusted": true,
        "execution": {
          "iopub.status.busy": "2025-07-22T17:58:04.489014Z",
          "iopub.execute_input": "2025-07-22T17:58:04.489261Z",
          "iopub.status.idle": "2025-07-22T17:58:04.940276Z",
          "shell.execute_reply.started": "2025-07-22T17:58:04.489244Z",
          "shell.execute_reply": "2025-07-22T17:58:04.939527Z"
        }
      },
      "outputs": [],
      "execution_count": null
    },
    {
      "cell_type": "code",
      "source": [
        "text_embedding_layer = layers.Embedding(\n",
        "    input_dim=vocab_size,\n",
        "    output_dim=embedding_size,\n",
        "    embeddings_initializer=keras.initializers.Constant(pretrained_embeddings),\n",
        "    input_length=200,\n",
        "    trainable=True\n",
        ")\n",
        "\n",
        "text_classifier = keras.Sequential()\n",
        "text_classifier.add(text_embedding_layer)\n",
        "text_classifier.add(layers.GlobalAveragePooling1D())\n",
        "text_classifier.add(layers.Dense(128, activation='relu'))\n",
        "text_classifier.add(layers.Dense(64, activation='relu'))\n",
        "text_classifier.add(layers.Dense(1, activation='sigmoid'))\n",
        "\n",
        "text_classifier.compile(\n",
        "    optimizer='adam',\n",
        "    loss='binary_crossentropy',\n",
        "    metrics=['accuracy']\n",
        ")\n",
        "\n",
        "history = text_classifier.fit(\n",
        "    X_train,\n",
        "    y_train,\n",
        "    epochs=3,\n",
        "    batch_size=512,\n",
        "    validation_data=(X_val, y_val)\n",
        ")\n"
      ],
      "metadata": {
        "id": "V_nWiYy6cEbJ",
        "trusted": true,
        "execution": {
          "iopub.status.busy": "2025-07-22T18:00:37.443689Z",
          "iopub.execute_input": "2025-07-22T18:00:37.444051Z",
          "iopub.status.idle": "2025-07-22T18:01:13.208757Z",
          "shell.execute_reply.started": "2025-07-22T18:00:37.444011Z",
          "shell.execute_reply": "2025-07-22T18:01:13.208113Z"
        }
      },
      "outputs": [],
      "execution_count": null
    },
    {
      "cell_type": "code",
      "source": [
        "# Load test data\n",
        "yelp_test = pd.read_csv('yelp_review_polarity_csv/test.csv', names=['sentiment', 'review'])\n",
        "\n",
        "# Fix sentiment labels\n",
        "yelp_test['sentiment'] = yelp_test['sentiment'].replace({1: 0, 2: 1})\n",
        "\n",
        "# Tokenize and pad reviews\n",
        "X_test = tokenizer.texts_to_sequences(yelp_test['review'])\n",
        "X_test = keras.preprocessing.sequence.pad_sequences(X_test, maxlen=200)\n",
        "\n",
        "# Convert labels to float32 numpy array\n",
        "y_test = yelp_test['sentiment'].astype('float32').values\n",
        "\n",
        "# Evaluate model\n",
        "test_loss, test_accuracy = text_classifier.evaluate(X_test, y_test)\n",
        "print(f\"Test Accuracy: {test_accuracy:.2%}\")\n"
      ],
      "metadata": {
        "id": "AUsripS7SZdk",
        "trusted": true,
        "execution": {
          "iopub.status.busy": "2025-07-22T18:03:25.824537Z",
          "iopub.execute_input": "2025-07-22T18:03:25.824827Z",
          "iopub.status.idle": "2025-07-22T18:03:30.860584Z",
          "shell.execute_reply.started": "2025-07-22T18:03:25.824806Z",
          "shell.execute_reply": "2025-07-22T18:03:30.859981Z"
        }
      },
      "outputs": [],
      "execution_count": null
    },
    {
      "cell_type": "code",
      "source": [
        "def predict_sentiment(review_list):\n",
        "    encoded_sequences = tokenizer.texts_to_sequences(review_list)\n",
        "    padded_sequences = keras.preprocessing.sequence.pad_sequences(encoded_sequences, maxlen=200)\n",
        "    predictions = text_classifier.predict(padded_sequences)\n",
        "    return predictions\n",
        "\n",
        "# Real reviews from Google Reviews.\n",
        "pos_review = \"The best seafood joint in East Village San Diego!  Great lobster roll, great fish, great oysters, great bread, great cocktails, and such amazing service.  The atmosphere is top notch and the location is so much fun being located just a block away from Petco Park (San Diego Padres Stadium).\"\n",
        "neg_review = \"A thoroughly disappointing experience. When you book a Marriott you expect a certain standard. Albany falls way short. Room cleaning has to be booked 24 hours in advance but nobody thought to mention this at check in. The hotel is tired and needs a face-lift. The only bright light in a sea of mediocrity were the pancakes at breakfast. Sadly they weren't enough to save the experience. If you travel to Albany, then do yourself a big favour and book the Westin.\"\n",
        "\n",
        "sample_reviews = [pos_review, neg_review]\n",
        "results = predict_sentiment(sample_reviews)\n",
        "\n",
        "for review, score in zip(sample_reviews, results):\n",
        "    sentiment = \"Positive\" if score >= 0.5 else \"Negative\"\n",
        "    print(f\"{sentiment} ({score[0]:.2f}): {review[:100]}...\")\n"
      ],
      "metadata": {
        "id": "rNbNyr8PVJMv",
        "trusted": true,
        "execution": {
          "iopub.status.busy": "2025-07-22T18:08:06.029223Z",
          "iopub.execute_input": "2025-07-22T18:08:06.029854Z",
          "iopub.status.idle": "2025-07-22T18:08:06.113815Z",
          "shell.execute_reply.started": "2025-07-22T18:08:06.02983Z",
          "shell.execute_reply": "2025-07-22T18:08:06.113073Z"
        }
      },
      "outputs": [],
      "execution_count": null
    }
  ]
}